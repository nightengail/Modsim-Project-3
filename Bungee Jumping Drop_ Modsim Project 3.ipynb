{
 "cells": [
  {
   "cell_type": "markdown",
   "metadata": {},
   "source": [
    "# Bungee Jumping Drop\n",
    "\n",
    "Shreya Chowdhary & Gail Romer\n"
   ]
  },
  {
   "cell_type": "code",
   "execution_count": 1,
   "metadata": {},
   "outputs": [],
   "source": [
    "# Configure Jupyter so figures appear in the notebook\n",
    "%matplotlib inline\n",
    "\n",
    "# Configure Jupyter to display the assigned value after an assignment\n",
    "%config InteractiveShell.ast_node_interactivity='last_expr_or_assign'\n",
    "\n",
    "# import functions from the modsim.py module\n",
    "from modsim import *"
   ]
  },
  {
   "cell_type": "code",
   "execution_count": 2,
   "metadata": {},
   "outputs": [
    {
     "data": {
      "text/html": [
       "newton"
      ],
      "text/latex": [
       "$newton$"
      ],
      "text/plain": [
       "<Unit('newton')>"
      ]
     },
     "execution_count": 2,
     "metadata": {},
     "output_type": "execute_result"
    }
   ],
   "source": [
    "m = UNITS.meter\n",
    "s = UNITS.second\n",
    "kg = UNITS.kilogram\n",
    "N = UNITS.newton"
   ]
  },
  {
   "cell_type": "markdown",
   "metadata": {},
   "source": [
    "### Question\n",
    "Your modeling question.\n",
    "This question should avoid the four pitfalls discussed before Project 1.\n"
   ]
  },
  {
   "cell_type": "markdown",
   "metadata": {},
   "source": [
    "### Model\n",
    "\n",
    "\n",
    "\n",
    "\n",
    "\n",
    "\n",
    "(M) All three representations of your model: schematic diagram(worksheet), \n",
    "differential equations (Slope fn), \n",
    "and implementation in Python(to follow).\n",
    "(M) An explanation of the decisions you made in creating your model. (E.g., What assumptions are baked in? Why did you choose those? Are they good or bad assumptions?)\n",
    "These explanations should be thorough and belong in the essay portion of the text, not in code comments.\n"
   ]
  },
  {
   "cell_type": "markdown",
   "metadata": {},
   "source": [
    "We used google to find the average weight for a human, approximated the diameter of a spherical human by curling in balls and measuring ourselves, found k value and mass of the bungee cord from the ModSimPy model. We assumed the bungee jumper is a sphere, as it is difficult to deturmine the drag of a bungee jumper because they may fall in many different orientations. This assumption is also based in reality, there are many videos of bungee jumpers who curl into a ball as they fall.\n",
    "\n",
    "https://www.youtube.com/watch?v=g3pq1Pn_Mag\n",
    "\n",
    "\n",
    "drag coefficient of a sphere: https://en.wikipedia.org/wiki/Drag_coefficient\n"
   ]
  },
  {
   "cell_type": "code",
   "execution_count": 3,
   "metadata": {},
   "outputs": [],
   "source": [
    "def make_system(params):\n",
    "    \"\"\"Makes a system based on params input, including init state\n",
    "        Calculates necessary values based on parameters\"\"\"\n",
    "    \n",
    "    init = State(h = params.init_height, v = 0 * m/s)\n",
    "    \n",
    "    area = np.pi * (params.diameter/2)**2\n",
    "    \n",
    "    mu = params.mass_bungee/(params.mass_human + params.mass_object)\n",
    "    \n",
    "    system = System(params, init = init, area = area, mu = mu)\n",
    "    \n",
    "    return system"
   ]
  },
  {
   "cell_type": "code",
   "execution_count": 4,
   "metadata": {},
   "outputs": [],
   "source": [
    "def drag_force(v, system):\n",
    "    \"\"\"Calculates drag force from system variables and a given velocity\"\"\"\n",
    "    \n",
    "    unpack(system)\n",
    "\n",
    "    return -np.sign(v) * rho * v**2 * C_d * area / 2"
   ]
  },
  {
   "cell_type": "code",
   "execution_count": 5,
   "metadata": {},
   "outputs": [],
   "source": [
    "def whip_force(system, state):\n",
    "    \"\"\"Calculates whip force from system and state variables\"\"\"\n",
    "    \n",
    "    unpack(system)\n",
    "    \n",
    "    h, v = state\n",
    "    \n",
    "    a = np.sign(v)*(mu * (v**2)/2)/(mu*(bungee_rest_length + h) + 2*bungee_rest_length)\n",
    "    \n",
    "    return total_mass*a"
   ]
  },
  {
   "cell_type": "code",
   "execution_count": 6,
   "metadata": {},
   "outputs": [],
   "source": [
    "def spring_force(h, system):\n",
    "    \"\"\"Calculates spring force from height difference and length of bungee cord\"\"\"\n",
    "    \n",
    "    unpack(system)\n",
    "    \n",
    "    return k*((init_height - h) - bungee_rest_length)"
   ]
  },
  {
   "cell_type": "code",
   "execution_count": 7,
   "metadata": {},
   "outputs": [],
   "source": [
    "def slope_stage_14(state, t, system): #Stages 1 & 4 involve the same forces\n",
    "    \"\"\"Slope function determines change in height and change in velocity due to forces of drag, whip, and gravity\n",
    "        Used in free-fall and free-fly stages\"\"\"\n",
    "    \n",
    "    unpack(system)\n",
    "    h, v = state\n",
    "    \n",
    "    f_drag = drag_force(v, system)\n",
    "    f_whip = whip_force(system, state)\n",
    "    f_grav = (total_mass)*(-g)\n",
    "\n",
    "    net_force = f_drag + f_whip + f_grav\n",
    "#     Calculates acceleration from net force\n",
    "    a = net_force/total_mass\n",
    "    \n",
    "    dhdt = v\n",
    "    dvdt = a \n",
    "    \n",
    "    return dhdt, dvdt"
   ]
  },
  {
   "cell_type": "code",
   "execution_count": 8,
   "metadata": {},
   "outputs": [],
   "source": [
    "def slope_stage_23(state, t, system):\n",
    "    \"\"\"Slope function determines change in height and change in velocity due to forces of drag, spring, and gravity\n",
    "        Used in stretch and return stages\"\"\"\n",
    "    \n",
    "    unpack(system)\n",
    "    h, v = state\n",
    "    \n",
    "    f_drag = drag_force(v, system)\n",
    "    f_spring = spring_force(h, system)\n",
    "    f_grav = (total_mass)*(-g)\n",
    "     \n",
    "    net_force = f_drag + f_spring + f_grav\n",
    "#     Calculates acceleration from net force\n",
    "    a = net_force/total_mass\n",
    "    \n",
    "    dhdt = v\n",
    "    dvdt = a\n",
    "    \n",
    "    return dhdt, dvdt"
   ]
  },
  {
   "cell_type": "code",
   "execution_count": 9,
   "metadata": {},
   "outputs": [],
   "source": [
    "def plot_height(heights, stage):\n",
    "    \"\"\"Creates and labels plot of Height vs. Time\"\"\"\n",
    "    plot(heights)\n",
    "    title = \"Height vs. Time for \" + stage\n",
    "    decorate(title = title, xlabel=\"Time (s)\", ylabel=\"Height (m)\")"
   ]
  },
  {
   "cell_type": "code",
   "execution_count": 10,
   "metadata": {},
   "outputs": [],
   "source": [
    "def plot_velocity(velocities, stage):\n",
    "    \"\"\"Creates and labels plot of Velocity vs. Time\"\"\"\n",
    "    plot(velocities)\n",
    "    title = \"Velocity vs. Time for \" + stage\n",
    "    decorate(title = title, xlabel=\"Time (s)\", ylabel=\"Velocity (m/s)\")"
   ]
  },
  {
   "cell_type": "markdown",
   "metadata": {},
   "source": [
    "### Stage 1: Freefall"
   ]
  },
  {
   "cell_type": "code",
   "execution_count": 11,
   "metadata": {},
   "outputs": [],
   "source": [
    "def free_fall_event(state, t, system):\n",
    "    \"\"\"Event function returns 0 when height difference is length of bungee cord\"\"\"\n",
    "    \n",
    "    unpack(system)\n",
    "    \n",
    "    h, v = state\n",
    "    \n",
    "    return bungee_rest_length - (init_height - h)"
   ]
  },
  {
   "cell_type": "code",
   "execution_count": 12,
   "metadata": {},
   "outputs": [],
   "source": [
    "def free_fall(sys):\n",
    "    \"\"\"Finds Height and Velocity vs. Time for free fall stage, returns an updated system and the results from the stage\"\"\"\n",
    "    \n",
    "    unpack(sys)\n",
    "    system = System(sys, total_mass = sys.mass_human + sys.mass_object)\n",
    "    \n",
    "#     Solves for height and velocity over time for free-fall stage\n",
    "    free_fall_results, details = run_ode_solver(system, slope_stage_14, events = free_fall_event, max_step = dt)\n",
    "   \n",
    "    h_final = get_last_value(free_fall_results.h) * m\n",
    "    v_final = get_last_value(free_fall_results.v) * m/s\n",
    "    \n",
    "#     Plots data for free fall stage if p is true\n",
    "    if p:\n",
    "        plot_height(free_fall_results.h, \"Free Fall Stage\")\n",
    "        plt.figure()\n",
    "        plot_velocity(free_fall_results.v, \"Free Fall Stage\")\n",
    "    \n",
    "    \n",
    "#     Creates new system and state from the end of free fall stage\n",
    "    free_fall_state = State(h = h_final, v = v_final)  \n",
    "    t_final = get_last_label(free_fall_results) * s\n",
    "    system = System(system, init = free_fall_state, t_0 = t_final)\n",
    "    \n",
    "    return system, free_fall_results"
   ]
  },
  {
   "cell_type": "markdown",
   "metadata": {},
   "source": [
    "### Stage 2: Stretch"
   ]
  },
  {
   "cell_type": "code",
   "execution_count": 13,
   "metadata": {},
   "outputs": [],
   "source": [
    "def stretch_event(state, t, system):\n",
    "    \"\"\"Event function returns 0 when velocity is 0\"\"\"\n",
    "    \n",
    "    unpack(system)\n",
    "    \n",
    "    h, v = state\n",
    "    \n",
    "    return v"
   ]
  },
  {
   "cell_type": "code",
   "execution_count": 14,
   "metadata": {},
   "outputs": [],
   "source": [
    "def stretch(sys):\n",
    "    \"\"\"Finds Height and Velocity vs. Time for stretch stage, returns an updated system and the results from the stage\"\"\"\n",
    "\n",
    "    unpack(sys)\n",
    "    system = System(sys, total_mass = sys.mass_human + sys.mass_object)\n",
    "\n",
    "#     Solves for height and velocity over time for stretch stage\n",
    "    stretch_results, details = run_ode_solver(sys, slope_stage_23, events = stretch_event, max_step = dt)\n",
    "\n",
    "    \n",
    "    h_final = get_last_value(stretch_results.h) * m\n",
    "    v_final = get_last_value(stretch_results.v) * m/s\n",
    "    \n",
    "#     Plots data for stretch stage if p is true\n",
    "    if p:\n",
    "        plot_height(stretch_results.h, \"Stretch Stage\")\n",
    "        plt.figure()\n",
    "        plot_velocity(stretch_results.v, \"Stretch Stage\")\n",
    "    \n",
    "#     Creates new system and state from the end of stretch stage\n",
    "    stretch_state = State(h = h_final, v = v_final)\n",
    "    t_final = get_last_label(stretch_results) * s\n",
    "    system = System(sys, init = stretch_state, t_0 = t_final)\n",
    "    \n",
    "    return system, stretch_results"
   ]
  },
  {
   "cell_type": "markdown",
   "metadata": {},
   "source": [
    "### Stage 3: Release\n",
    "is this a necessary stage?"
   ]
  },
  {
   "cell_type": "code",
   "execution_count": 15,
   "metadata": {},
   "outputs": [],
   "source": [
    "def return_event(state, t, system):\n",
    "    \"\"\"Event function returns 0 when height difference is length of bungee cord\"\"\"\n",
    "    \n",
    "    unpack(system)\n",
    "    \n",
    "    h, v = state\n",
    "    \n",
    "    return (init_height - h) - bungee_rest_length"
   ]
  },
  {
   "cell_type": "code",
   "execution_count": 16,
   "metadata": {},
   "outputs": [],
   "source": [
    "def bungee_return(sys):\n",
    "    \"\"\"Finds Height and Velocity vs. Time for return stage, returns an updated system and the results from the stage\"\"\"\n",
    "\n",
    "    unpack(sys)\n",
    "    sys = System(sys,total_mass = mass_human)\n",
    "    \n",
    "#     Solves for height and velocity over time for return stage\n",
    "    return_results, details = run_ode_solver(sys, slope_stage_23, events = return_event, max_step = dt)\n",
    "\n",
    "    h_final = get_last_value(return_results.h) * m\n",
    "    v_final = get_last_value(return_results.v) * m/s\n",
    "\n",
    "#     Plots data for return stage if p is true\n",
    "    if p:\n",
    "        plot_height(return_results.h, \"Return Stage\")\n",
    "        plt.figure()\n",
    "        plot_velocity(return_results.v, \"Return Stage\")\n",
    "\n",
    "#     Creates new system and state from the end of return stage\n",
    "    return_state = State(h = h_final, v = v_final)\n",
    "    t_final = get_last_label(return_results) * s\n",
    "    system = System(sys, init = return_state, t_0 = t_final)\n",
    "    \n",
    "    return system, return_results"
   ]
  },
  {
   "cell_type": "markdown",
   "metadata": {},
   "source": [
    "### Stage 5: Freefly"
   ]
  },
  {
   "cell_type": "code",
   "execution_count": 17,
   "metadata": {},
   "outputs": [],
   "source": [
    "def free_fly_event(state,t,system):\n",
    "    \"\"\"Event function returns 0 when velocity is 0\"\"\"\n",
    "\n",
    "    unpack(system)\n",
    "    \n",
    "    h, v = state\n",
    "    \n",
    "    return v"
   ]
  },
  {
   "cell_type": "code",
   "execution_count": 18,
   "metadata": {},
   "outputs": [],
   "source": [
    "def free_fly(sys):\n",
    "    \"\"\"Finds Height and Velocity vs. Time for free-fly stage, returns an updated system and the results from the stage\"\"\"\n",
    "\n",
    "    unpack(sys)\n",
    "    system = System(sys, total_mass = sys.mass_human + sys.mass_object)\n",
    "    \n",
    "#     Solves for height and velocity over time for free-fly stage\n",
    "    free_fly_results, details = run_ode_solver(system, slope_stage_14, events = free_fly_event, max_step = dt)\n",
    "    \n",
    "    h_final = get_last_value(free_fly_results.h) * m\n",
    "    v_final = get_last_value(free_fly_results.v) * m/s\n",
    "\n",
    "#     Plots data for free-fly stage if p is true\n",
    "    if p:\n",
    "        plot_height(free_fly_results.h, \"Free Fly Stage\")\n",
    "        plt.figure()\n",
    "        plot_velocity(free_fly_results.v, \"Free Fly Stage\")\n",
    "    \n",
    "#     Creates new system and state from the end of free-fly stage\n",
    "    free_fly_state = State(h = h_final, v = v_final)\n",
    "    t_final = get_last_label(free_fly_results) * s\n",
    "    system = System(system, init = free_fly_state, t_0 = t_final)\n",
    "    \n",
    "    return system, free_fly_results"
   ]
  },
  {
   "cell_type": "markdown",
   "metadata": {},
   "source": [
    "### End Stage: Pass Height 0"
   ]
  },
  {
   "cell_type": "code",
   "execution_count": 19,
   "metadata": {},
   "outputs": [],
   "source": [
    "params = Params(init_height = 220 * m,\n",
    "                g = 9.8 * m/s**2,\n",
    "                mass_human = 62 * kg,\n",
    "                mass_object = 10 * kg,\n",
    "                diameter = 0.8128 * m,        \n",
    "                rho = 1.2 * kg/m**3,          \n",
    "                k = 40 * N/m,               \n",
    "                bungee_rest_length = 100 * m, \n",
    "                t_0 = 0 *s,\n",
    "                t_end = 2000 * s,\n",
    "                dt = .01*s, \n",
    "                C_d = 0.47,\n",
    "                mass_bungee = 75 * kg,\n",
    "                p=False);"
   ]
  },
  {
   "cell_type": "code",
   "execution_count": 20,
   "metadata": {},
   "outputs": [],
   "source": [
    "def bungee_drop(mass, params):\n",
    "    \"\"\"Error function - returns 0 when final height equals initial height\"\"\"\n",
    "\n",
    "    params = Params(params, mass_object = mass*kg)\n",
    "    system = make_system(params)\n",
    "    \n",
    "#     Runs each stage, inputting system/state created from previous stage\n",
    "    free_fall_system, free_fall_results= free_fall(system)\n",
    "    stretch_system, stretch_results = stretch(free_fall_system)\n",
    "    return_system, return_results = bungee_return(stretch_system)\n",
    "    free_fly_system, free_fly_results= free_fly(return_system)\n",
    "\n",
    "    return get_last_value(free_fly_results.h) * m - params.init_height"
   ]
  },
  {
   "cell_type": "code",
   "execution_count": 21,
   "metadata": {},
   "outputs": [],
   "source": [
    "def sweep_mass(params):\n",
    "    \"\"\"Sweeps the mass of the object \n",
    "        produces a plot of mass vs difference between final and initial height\"\"\"\n",
    "\n",
    "#     Creates a Timeseries and array for sweeping\n",
    "    mass_series = TimeSeries()\n",
    "    mass_array = linrange(20,30,1)\n",
    "    print(mass_array)\n",
    "\n",
    "#     Sweeps mass and calculates difference between final and initial height\n",
    "    for mass in mass_array:\n",
    "        m = mass\n",
    "        results = bungee_drop(m,params)\n",
    "        mass_series[mass] = results\n",
    "#     Plots swept data\n",
    "    plot(mass_series)"
   ]
  },
  {
   "cell_type": "code",
   "execution_count": null,
   "metadata": {},
   "outputs": [
    {
     "name": "stdout",
     "output_type": "stream",
     "text": [
      "[20 21 22 23 24 25 26 27 28 29]\n"
     ]
    }
   ],
   "source": [
    "sweep_mass(params)"
   ]
  },
  {
   "cell_type": "code",
   "execution_count": null,
   "metadata": {},
   "outputs": [],
   "source": [
    "# Solves for mass that makes the difference between final and initial height equal to 0\n",
    "mass = fsolve(bungee_drop, 35, params)[0]"
   ]
  },
  {
   "cell_type": "code",
   "execution_count": null,
   "metadata": {},
   "outputs": [],
   "source": [
    "# Checks the mass produced by fsolve \n",
    "bungee_drop(mass, params)"
   ]
  },
  {
   "cell_type": "code",
   "execution_count": null,
   "metadata": {},
   "outputs": [],
   "source": [
    "def plot_final(mass, params):\n",
    "    \"\"\"Runs, concatinates, and plots results from the four stages based on mass found by fsolve\"\"\"\n",
    "\n",
    "    params = Params(params, mass_object = mass*kg)\n",
    "    system = make_system(params)\n",
    "\n",
    "#     Runs all stages \n",
    "    free_fall_system, free_fall_results= free_fall(system)\n",
    "    stretch_system, stretch_results = stretch(free_fall_system)\n",
    "    return_system, return_results = bungee_return(stretch_system)\n",
    "    free_fly_system, free_fly_results= free_fly(return_system)\n",
    "    \n",
    "#     Concatinates results into one array\n",
    "    frames = [free_fall_results, stretch_results, return_results, free_fly_results]\n",
    "    result = pd.concat(frames)\n",
    "\n",
    "#     Plots and labels figure of Height vs. Time\n",
    "    plot(result.h)\n",
    "    decorate(title = \"Bungee Drop Height vs. Time\", ylabel = \"Height (m)\", xlabel = \"Time (s)\", legend = mass)\n",
    "\n",
    "#     Plots and labels New figure of Velocity vs. Time\n",
    "    plt.figure()\n",
    "    plot(result.v)\n",
    "    decorate(title = \"Bungee Drop Velocity vs. Time\", ylabel = \"Velocity (m/s)\", xlabel = \"Time (s)\", legend = mass)\n",
    "\n",
    "#     Prints last value of height\n",
    "    print(get_last_value(result.h))\n",
    "plot_final(mass,params)\n"
   ]
  },
  {
   "cell_type": "code",
   "execution_count": null,
   "metadata": {},
   "outputs": [],
   "source": [
    "print(mass)"
   ]
  },
  {
   "cell_type": "markdown",
   "metadata": {},
   "source": [
    "### Results\n",
    "(R) The well-labeled figures you created to show the output of your simulation.\n",
    "(R) The answer to your modeling question (weight of object).\n",
    "(R or I) Text explaining how the figure showing your output leads you to the answer of your question.\n",
    "This can also include annotations on the figure.\n"
   ]
  },
  {
   "cell_type": "markdown",
   "metadata": {},
   "source": [
    "### Interpretation\n",
    "(I) In the Interpretation section, acknowledgment of any significant failings of the model accompanied by explanation of what measures were taken to address the problem and what additional steps would be taken next if the project were to continue.\n",
    "Significant failings might include (but are not limited to) a model that does not answer the question, a model that has so many limitations and assumptions that the output is meaningless, or a model that does not go beyond simple statistical modeling (e.g., showing correlations between variables).\n",
    "(I) A few sentences in the Interpretation section explaining the role of iteration in your modeling process.\n",
    "\n",
    "Human as sphere\n",
    "no rotation\n",
    "no delta drag w/drop of object\n",
    "\n",
    "started with only spring force and gravity with no change in mass\n",
    "tested each stage in isolated batches before stringing them together\n",
    "once bugs were worked out we itterativly added the drag force, change in mass, and whip force to the model\n",
    "\n",
    "\n",
    "\n",
    "According to https://www.bluebulbprojects.com/measureofthings/results.php?comp=weight&unit=kgms&amt=27&sort=pr&p=2 the 62kg bungee jumper should be carrying either 4 bowling balls, 5 gallons of paint, 6 cats, 9.5 bricks, 12 chihuahuas, 20 human brains, or 45 basketballs (some of which would be unreasonable because they would effect drag). "
   ]
  },
  {
   "cell_type": "code",
   "execution_count": null,
   "metadata": {},
   "outputs": [],
   "source": []
  }
 ],
 "metadata": {
  "kernelspec": {
   "display_name": "Python 3",
   "language": "python",
   "name": "python3"
  },
  "language_info": {
   "codemirror_mode": {
    "name": "ipython",
    "version": 3
   },
   "file_extension": ".py",
   "mimetype": "text/x-python",
   "name": "python",
   "nbconvert_exporter": "python",
   "pygments_lexer": "ipython3",
   "version": "3.6.6"
  }
 },
 "nbformat": 4,
 "nbformat_minor": 2
}
