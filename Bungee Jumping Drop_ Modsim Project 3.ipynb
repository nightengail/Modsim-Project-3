{
 "cells": [
  {
   "cell_type": "markdown",
   "metadata": {},
   "source": [
    "# Bungee Jumping Drop\n",
    "\n",
    "Shreya Chowdhary & Gail Romer\n"
   ]
  },
  {
   "cell_type": "code",
   "execution_count": 1,
   "metadata": {},
   "outputs": [],
   "source": [
    "# Configure Jupyter so figures appear in the notebook\n",
    "%matplotlib inline\n",
    "\n",
    "# Configure Jupyter to display the assigned value after an assignment\n",
    "%config InteractiveShell.ast_node_interactivity='last_expr_or_assign'\n",
    "\n",
    "# import functions from the modsim.py module\n",
    "from modsim import *"
   ]
  },
  {
   "cell_type": "code",
   "execution_count": 29,
   "metadata": {},
   "outputs": [
    {
     "data": {
      "text/html": [
       "newton"
      ],
      "text/latex": [
       "$newton$"
      ],
      "text/plain": [
       "<Unit('newton')>"
      ]
     },
     "execution_count": 29,
     "metadata": {},
     "output_type": "execute_result"
    }
   ],
   "source": [
    "m = UNITS.meter\n",
    "s = UNITS.second\n",
    "kg = UNITS.kilogram\n",
    "N = UNITS.newton"
   ]
  },
  {
   "cell_type": "markdown",
   "metadata": {},
   "source": [
    "### Question\n",
    "Your modeling question.\n",
    "This question should avoid the four pitfalls discussed before Project 1.\n"
   ]
  },
  {
   "cell_type": "markdown",
   "metadata": {},
   "source": [
    "### Model\n",
    "\n",
    "\n",
    "\n",
    "\n",
    "\n",
    "\n",
    "(M) All three representations of your model: schematic diagram(worksheet), \n",
    "differential equations (Slope fn), \n",
    "and implementation in Python(to follow).\n",
    "(M) An explanation of the decisions you made in creating your model. (E.g., What assumptions are baked in? Why did you choose those? Are they good or bad assumptions?)\n",
    "These explanations should be thorough and belong in the essay portion of the text, not in code comments.\n"
   ]
  },
  {
   "cell_type": "markdown",
   "metadata": {},
   "source": [
    "We used google to find the average weight for a human, approximated the diameter of a spherical human by curling in balls and measuring ourselves, found k value and mass of the bungee cord from the ModSimPy model. We assumed the bungee jumper is a sphere, as it is difficult to deturmine the drag of a bungee jumper because they may fall in many different orientations. This assumption is also based in reality, there are many videos of bungee jumpers who curl into a ball as they fall.\n",
    "\n",
    "https://www.youtube.com/watch?v=g3pq1Pn_Mag\n",
    "\n",
    "\n",
    "drag coefficient of a sphere: https://en.wikipedia.org/wiki/Drag_coefficient\n"
   ]
  },
  {
   "cell_type": "code",
   "execution_count": 3,
   "metadata": {},
   "outputs": [],
   "source": [
    "def make_system(params):\n",
    "    \"\"\"Makes a system based on params input, including init state\n",
    "        Calculates necessary values based on parameters\"\"\"\n",
    "    \n",
    "    init = State(h = params.init_height, v = 0 * m/s)\n",
    "    \n",
    "    area = np.pi * (params.diameter/2)**2\n",
    "    \n",
    "    mu = params.mass_bungee/(params.mass_human + params.mass_object)\n",
    "    \n",
    "    system = System(params, init = init, area = area, mu = mu)\n",
    "    \n",
    "    return system"
   ]
  },
  {
   "cell_type": "code",
   "execution_count": 4,
   "metadata": {},
   "outputs": [],
   "source": [
    "def drag_force(v, system):\n",
    "    \"\"\"Calculates necessary values based on parameters\"\"\"\n",
    "    \n",
    "    unpack(system)\n",
    "\n",
    "    return -np.sign(v) * rho * v**2 * C_d * area / 2\n"
   ]
  },
  {
   "cell_type": "code",
   "execution_count": 5,
   "metadata": {},
   "outputs": [],
   "source": [
    "def whip_force(system, state):\n",
    "    unpack(system)\n",
    "    h, v = state\n",
    "    a = np.sign(v)*(mu * (v**2)/2)/(mu*(bungee_rest_length + h) + 2*bungee_rest_length)\n",
    "    return total_mass*a\n",
    "#     return 0"
   ]
  },
  {
   "cell_type": "code",
   "execution_count": 6,
   "metadata": {},
   "outputs": [],
   "source": [
    "def spring_force(h, system):\n",
    "    unpack(system)\n",
    "    return k*((init_height - h) - bungee_rest_length)"
   ]
  },
  {
   "cell_type": "code",
   "execution_count": 7,
   "metadata": {},
   "outputs": [],
   "source": [
    "def free_fall_event(state, t, system):\n",
    "    unpack(system)\n",
    "    h, v = state\n",
    "    \n",
    "    return bungee_rest_length - (init_height - h)"
   ]
  },
  {
   "cell_type": "code",
   "execution_count": 8,
   "metadata": {},
   "outputs": [],
   "source": [
    "def slope_stage_14(state, t, system): #Stages 1 & 4 involve the same forces\n",
    "    unpack(system)\n",
    "    h, v = state\n",
    "    \n",
    "    f_drag = drag_force(v, system)\n",
    "    f_whip = whip_force(system, state)\n",
    "    f_grav = (total_mass)*(-g)\n",
    "\n",
    "    net_force = f_drag + f_whip + f_grav\n",
    "    a = net_force/total_mass\n",
    "    dhdt = v\n",
    "    dvdt = a \n",
    "    \n",
    "    return dhdt, dvdt"
   ]
  },
  {
   "cell_type": "code",
   "execution_count": 9,
   "metadata": {},
   "outputs": [],
   "source": [
    "def slope_stage_23(state, t, system):\n",
    "    unpack(system)\n",
    "    h, v = state\n",
    "    f_drag = drag_force(v, system)\n",
    "    f_spring = spring_force(h, system)\n",
    "    f_grav = (total_mass)*(-g)\n",
    "    \n",
    "#     print(v, f_drag)\n",
    "#     print(h, f_spring)\n",
    "    \n",
    "    net_force = f_drag + f_spring + f_grav\n",
    "    a = net_force/total_mass\n",
    "    dhdt = v\n",
    "    dvdt = a\n",
    "    \n",
    "    return dhdt, dvdt"
   ]
  },
  {
   "cell_type": "markdown",
   "metadata": {},
   "source": [
    "### Stage 1: Freefall"
   ]
  },
  {
   "cell_type": "code",
   "execution_count": 10,
   "metadata": {},
   "outputs": [],
   "source": [
    "def plot_height(heights, stage):\n",
    "    plot(heights)\n",
    "    title = \"Height v.s. Time for \" + stage\n",
    "    decorate(title = title, xlabel=\"Time (s)\", ylabel=\"Height (m)\")"
   ]
  },
  {
   "cell_type": "code",
   "execution_count": 11,
   "metadata": {},
   "outputs": [],
   "source": [
    "def plot_velocity(velocities, stage):\n",
    "    plot(velocities)\n",
    "    title = \"Velocity v.s. Time for \" + stage\n",
    "    decorate(title = title, xlabel=\"Time (s)\", ylabel=\"Velocity (m/s)\")"
   ]
  },
  {
   "cell_type": "code",
   "execution_count": 12,
   "metadata": {},
   "outputs": [],
   "source": [
    "def free_fall(sys):\n",
    "    unpack(sys)\n",
    "    system = System(sys, total_mass = sys.mass_human + sys.mass_object)\n",
    "    free_fall_results, details = run_ode_solver(system, slope_stage_14, events = free_fall_event, max_step = dt)\n",
    "    \n",
    "    h_final = get_last_value(free_fall_results.h) * m\n",
    "    v_final = get_last_value(free_fall_results.v) * m/s\n",
    "    \n",
    "    if p:\n",
    "        plot_height(free_fall_results.h, \"Free Fall Stage\")\n",
    "        plt.figure()\n",
    "        plot_velocity(free_fall_results.v, \"Free Fall Stage\")\n",
    "    \n",
    "    free_fall_state = State(h = h_final, v = v_final)\n",
    "    \n",
    "    t_final = get_last_label(free_fall_results) * s\n",
    "    \n",
    "    system = System(system, init = free_fall_state, t_0 = t_final)\n",
    "    \n",
    "    return system, free_fall_results"
   ]
  },
  {
   "cell_type": "markdown",
   "metadata": {},
   "source": [
    "### Stage 2: Stretch"
   ]
  },
  {
   "cell_type": "code",
   "execution_count": 13,
   "metadata": {},
   "outputs": [],
   "source": [
    "def stretch_event(state, t, system):\n",
    "    unpack(system)\n",
    "    h, v = state\n",
    "    return v"
   ]
  },
  {
   "cell_type": "code",
   "execution_count": 14,
   "metadata": {},
   "outputs": [],
   "source": [
    "def stretch(sys):\n",
    "    unpack(sys)\n",
    "    stretch_results, details = run_ode_solver(sys, slope_stage_23, events = stretch_event, max_step = dt)\n",
    "#     print(stretch_results.h)\n",
    "    \n",
    "    h_final = get_last_value(stretch_results.h) * m\n",
    "    v_final = get_last_value(stretch_results.v) * m/s\n",
    "    \n",
    "    if p:\n",
    "        plot_height(stretch_results.h, \"Stretch Stage\")\n",
    "        plt.figure()\n",
    "        plot_velocity(stretch_results.v, \"Stretch Stage\")\n",
    "    \n",
    "    stretch_state = State(h = h_final, v = v_final)\n",
    "    \n",
    "    t_final = get_last_label(stretch_results) * s\n",
    "    \n",
    "    system = System(sys, init = stretch_state, t_0 = t_final)\n",
    "    \n",
    "    return system, stretch_results\n",
    "        \n",
    "# final_V_of_freefall = 20 * m/s\n",
    "# final_height_of_freefall = 100 * m\n",
    "# t = 20 * s\n",
    "\n",
    "# delta_Y = 220 * m - final_height_of_freefall\n",
    "\n",
    "\n",
    "# F_g = -(params.mass_human+params.mass_object)*params.g\n",
    "# F_bungee = -params.k*(delta_Y - params.bungee_rest_length) # NEED TO MAKE THIS A FUNC OF DT\n",
    "# # F_drag\n",
    "# a = -(F_bungee - F_g)/(params.mass_human+params.mass_object)\n",
    "# v = final_V_of_freefall + a*dt\n",
    "# height = final_height_of_freefall + v*dt\n",
    "\n",
    "\n",
    "# # EPE_of_Bungee = (1/2)*params.k*delta_Y\n",
    "\n",
    "# #End characteristic of Stage 2 => (v = 0)\n",
    "# # return Final Height of Stretch Stage, final V of stretch stage, final t of stretch stage, EPE of Bungee"
   ]
  },
  {
   "cell_type": "markdown",
   "metadata": {},
   "source": [
    "### Stage 3: Release\n",
    "is this a necessary stage?"
   ]
  },
  {
   "cell_type": "code",
   "execution_count": 15,
   "metadata": {},
   "outputs": [],
   "source": [
    "def return_event(state, t, system):\n",
    "    unpack(system)\n",
    "    h, v = state\n",
    "    \n",
    "    return (init_height - h) - bungee_rest_length"
   ]
  },
  {
   "cell_type": "code",
   "execution_count": 16,
   "metadata": {},
   "outputs": [],
   "source": [
    "def bungee_return(sys):\n",
    "    unpack(sys)\n",
    "    sys = System(sys,total_mass = mass_human)\n",
    "    return_results, details = run_ode_solver(sys, slope_stage_23, events = return_event, max_step = dt)\n",
    "#     print(return_results.h)\n",
    "\n",
    "    h_final = get_last_value(return_results.h) * m\n",
    "    v_final = get_last_value(return_results.v) * m/s\n",
    "\n",
    "    if p:\n",
    "        plot_height(return_results.h, \"Return Stage\")\n",
    "        plt.figure()\n",
    "        plot_velocity(return_results.v, \"Return Stage\")\n",
    "\n",
    "    return_state = State(h = h_final, v = v_final)\n",
    "    \n",
    "    t_final = get_last_label(return_results) * s\n",
    "    \n",
    "    system = System(sys, init = return_state, t_0 = t_final)\n",
    "    \n",
    "    return system, return_results"
   ]
  },
  {
   "cell_type": "markdown",
   "metadata": {},
   "source": [
    "### Stage 5: Freefly"
   ]
  },
  {
   "cell_type": "code",
   "execution_count": 17,
   "metadata": {},
   "outputs": [],
   "source": [
    "def free_fly_event(state,t,system):\n",
    "    unpack(system)\n",
    "    h, v = state\n",
    "    return v"
   ]
  },
  {
   "cell_type": "code",
   "execution_count": 18,
   "metadata": {},
   "outputs": [],
   "source": [
    "def free_fly(sys):\n",
    "    unpack(sys)\n",
    "    system = System(sys, total_mass = sys.mass_human + sys.mass_object)\n",
    "    free_fly_results, details = run_ode_solver(system, slope_stage_14, events = free_fly_event, max_step = dt)\n",
    "    \n",
    "    h_final = get_last_value(free_fly_results.h) * m\n",
    "    v_final = get_last_value(free_fly_results.v) * m/s\n",
    "\n",
    "    if p:\n",
    "        plot_height(free_fly_results.h, \"Free Fly Stage\")\n",
    "        plt.figure()\n",
    "        plot_velocity(free_fly_results.v, \"Free Fly Stage\")\n",
    "    \n",
    "    free_fly_state = State(h = h_final, v = v_final)\n",
    "    \n",
    "    t_final = get_last_label(free_fly_results) * s\n",
    "    \n",
    "    system = System(system, init = free_fly_state, t_0 = t_final)\n",
    "    \n",
    "    return system, free_fly_results"
   ]
  },
  {
   "cell_type": "markdown",
   "metadata": {},
   "source": [
    "### End Stage: Pass Height 0"
   ]
  },
  {
   "cell_type": "code",
   "execution_count": 19,
   "metadata": {},
   "outputs": [
    {
     "data": {
      "text/html": [
       "<div>\n",
       "<style scoped>\n",
       "    .dataframe tbody tr th:only-of-type {\n",
       "        vertical-align: middle;\n",
       "    }\n",
       "\n",
       "    .dataframe tbody tr th {\n",
       "        vertical-align: top;\n",
       "    }\n",
       "\n",
       "    .dataframe thead th {\n",
       "        text-align: right;\n",
       "    }\n",
       "</style>\n",
       "<table border=\"1\" class=\"dataframe\">\n",
       "  <thead>\n",
       "    <tr style=\"text-align: right;\">\n",
       "      <th></th>\n",
       "      <th>values</th>\n",
       "    </tr>\n",
       "  </thead>\n",
       "  <tbody>\n",
       "    <tr>\n",
       "      <th>init_height</th>\n",
       "      <td>220 meter</td>\n",
       "    </tr>\n",
       "    <tr>\n",
       "      <th>g</th>\n",
       "      <td>9.8 meter / second ** 2</td>\n",
       "    </tr>\n",
       "    <tr>\n",
       "      <th>mass_human</th>\n",
       "      <td>62 kilogram</td>\n",
       "    </tr>\n",
       "    <tr>\n",
       "      <th>mass_object</th>\n",
       "      <td>0 kilogram</td>\n",
       "    </tr>\n",
       "    <tr>\n",
       "      <th>diameter</th>\n",
       "      <td>0.8128 meter</td>\n",
       "    </tr>\n",
       "    <tr>\n",
       "      <th>rho</th>\n",
       "      <td>1.2 kilogram / meter ** 3</td>\n",
       "    </tr>\n",
       "    <tr>\n",
       "      <th>k</th>\n",
       "      <td>40.0 newton / meter</td>\n",
       "    </tr>\n",
       "    <tr>\n",
       "      <th>bungee_rest_length</th>\n",
       "      <td>100 meter</td>\n",
       "    </tr>\n",
       "    <tr>\n",
       "      <th>t_0</th>\n",
       "      <td>0 second</td>\n",
       "    </tr>\n",
       "    <tr>\n",
       "      <th>t_end</th>\n",
       "      <td>2000 second</td>\n",
       "    </tr>\n",
       "    <tr>\n",
       "      <th>dt</th>\n",
       "      <td>0.1 second</td>\n",
       "    </tr>\n",
       "    <tr>\n",
       "      <th>C_d</th>\n",
       "      <td>0.47</td>\n",
       "    </tr>\n",
       "    <tr>\n",
       "      <th>mass_bungee</th>\n",
       "      <td>75 kilogram</td>\n",
       "    </tr>\n",
       "    <tr>\n",
       "      <th>p</th>\n",
       "      <td>False</td>\n",
       "    </tr>\n",
       "  </tbody>\n",
       "</table>\n",
       "</div>"
      ],
      "text/plain": [
       "init_height                           220 meter\n",
       "g                       9.8 meter / second ** 2\n",
       "mass_human                          62 kilogram\n",
       "mass_object                          0 kilogram\n",
       "diameter                           0.8128 meter\n",
       "rho                   1.2 kilogram / meter ** 3\n",
       "k                           40.0 newton / meter\n",
       "bungee_rest_length                    100 meter\n",
       "t_0                                    0 second\n",
       "t_end                               2000 second\n",
       "dt                                   0.1 second\n",
       "C_d                                        0.47\n",
       "mass_bungee                         75 kilogram\n",
       "p                                         False\n",
       "dtype: object"
      ]
     },
     "execution_count": 19,
     "metadata": {},
     "output_type": "execute_result"
    }
   ],
   "source": [
    "params = Params(init_height = 220 * m,\n",
    "                g = 9.8 * m/s**2,\n",
    "                mass_human = 62 * kg,\n",
    "#                 mass_object = 10 * kg,\n",
    "                mass_object = 0 * kg,\n",
    "                diameter = 0.8128 * m, # diameter of a spherical human\n",
    "                rho = 1.2 * kg/m**3,   # rho of air for drag calculations\n",
    "                k = 40 * N/m,      # k value for an average bungee cord\n",
    "                bungee_rest_length = 100 * m, # bungee cord less than half of init_height FOR NOW\n",
    "                t_0 = 0 *s,\n",
    "                t_end = 2000 * s,\n",
    "                dt = 0.1*s,\n",
    "#                dt = .01*s, # will use for final essay\n",
    "               C_d = 0.47,\n",
    "               mass_bungee = 75 * kg,\n",
    "               p=False)"
   ]
  },
  {
   "cell_type": "code",
   "execution_count": 20,
   "metadata": {},
   "outputs": [],
   "source": [
    "def bungee_drop(mass, params):\n",
    "\n",
    "    params = Params(params, mass_object = mass*kg)\n",
    "    system = make_system(params)\n",
    "    \n",
    "    free_fall_system, free_fall_results= free_fall(system)\n",
    "    stretch_system, stretch_results = stretch(free_fall_system)\n",
    "    return_system, return_results = bungee_return(stretch_system)\n",
    "    free_fly_system, free_fly_results= free_fly(return_system)\n",
    "    print(get_last_value(free_fly_results.h) * m - params.init_height)\n",
    "    return get_last_value(free_fly_results.h) * m - params.init_height"
   ]
  },
  {
   "cell_type": "code",
   "execution_count": 21,
   "metadata": {},
   "outputs": [
    {
     "name": "stdout",
     "output_type": "stream",
     "text": [
      "16.941171236615446 meter\n"
     ]
    },
    {
     "data": {
      "text/html": [
       "16.941171236615446 meter"
      ],
      "text/latex": [
       "$16.941171236615446 meter$"
      ],
      "text/plain": [
       "<Quantity(16.941171236615446, 'meter')>"
      ]
     },
     "execution_count": 21,
     "metadata": {},
     "output_type": "execute_result"
    }
   ],
   "source": [
    "bungee_drop(35.77, params)"
   ]
  },
  {
   "cell_type": "code",
   "execution_count": 34,
   "metadata": {},
   "outputs": [],
   "source": [
    "def sweep_mass(params):\n",
    "    mass_series = TimeSeries()\n",
    "    mass_array = linrange(20,30,1)\n",
    "    print(mass_array)\n",
    "    \n",
    "    for mass in mass_array:\n",
    "        m = mass\n",
    "        results = bungee_drop(m,params)\n",
    "        mass_series[mass] = results\n",
    "    plot(mass_series)\n",
    " \n",
    "\n",
    "\n"
   ]
  },
  {
   "cell_type": "code",
   "execution_count": 35,
   "metadata": {},
   "outputs": [
    {
     "name": "stdout",
     "output_type": "stream",
     "text": [
      "[20 21 22 23 24 25 26 27 28 29]\n",
      "-13.288317427409623 meter\n",
      "-11.429057905992266 meter\n",
      "-9.561515798732586 meter\n",
      "-7.685802756162957 meter\n",
      "-5.802026924015678 meter\n",
      "-3.9102945900710893 meter\n",
      "-2.010710372981407 meter\n",
      "-0.10337531663867594 meter\n",
      "1.8116100212669721 meter\n",
      "3.734147653532318 meter\n"
     ]
    },
    {
     "data": {
      "image/png": "[encoded data removed]",
      "text/plain": [
       "<Figure size 432x288 with 1 Axes>"
      ]
     },
     "metadata": {
      "needs_background": "light"
     },
     "output_type": "display_data"
    }
   ],
   "source": [
    "sweep_mass(params)\n"
   ]
  },
  {
   "cell_type": "code",
   "execution_count": 24,
   "metadata": {},
   "outputs": [
    {
     "name": "stdout",
     "output_type": "stream",
     "text": [
      "15.422715012442552 meter\n",
      "15.422715012442552 meter\n",
      "15.422715012442552 meter\n",
      "15.422715012442552 meter\n",
      "15.422716039547566 meter\n",
      "0.21913932026100724 meter\n",
      "0.0033129508252045525 meter\n",
      "7.586414483284898e-07 meter\n",
      "2.6147972675971687e-12 meter\n"
     ]
    },
    {
     "data": {
      "text/plain": [
       "27.05408402475354"
      ]
     },
     "execution_count": 24,
     "metadata": {},
     "output_type": "execute_result"
    }
   ],
   "source": [
    "mass = fsolve(bungee_drop, 35, params)[0]\n"
   ]
  },
  {
   "cell_type": "code",
   "execution_count": 25,
   "metadata": {},
   "outputs": [
    {
     "name": "stdout",
     "output_type": "stream",
     "text": [
      "2.6147972675971687e-12 meter\n"
     ]
    },
    {
     "data": {
      "text/html": [
       "2.6147972675971687e-12 meter"
      ],
      "text/latex": [
       "$2.6147972675971687e-12 meter$"
      ],
      "text/plain": [
       "<Quantity(2.6147972675971687e-12, 'meter')>"
      ]
     },
     "execution_count": 25,
     "metadata": {},
     "output_type": "execute_result"
    }
   ],
   "source": [
    "bungee_drop(mass, params)"
   ]
  },
  {
   "cell_type": "code",
   "execution_count": 26,
   "metadata": {},
   "outputs": [
    {
     "name": "stdout",
     "output_type": "stream",
     "text": [
      "220.00000000000261\n"
     ]
    },
    {
     "data": {
      "image/png": "[encoded data removed]",
      "text/plain": [
       "<Figure size 432x288 with 1 Axes>"
      ]
     },
     "metadata": {
      "needs_background": "light"
     },
     "output_type": "display_data"
    },
    {
     "data": {
      "image/png": "[encoded data removed]",
      "text/plain": [
       "<Figure size 432x288 with 1 Axes>"
      ]
     },
     "metadata": {
      "needs_background": "light"
     },
     "output_type": "display_data"
    }
   ],
   "source": [
    "\n",
    "def plot_final(mass, params):\n",
    "    params = Params(params, mass_object = mass*kg)\n",
    "    system = make_system(params)\n",
    "\n",
    "    free_fall_system, free_fall_results= free_fall(system)\n",
    "    stretch_system, stretch_results = stretch(free_fall_system)\n",
    "    return_system, return_results = bungee_return(stretch_system)\n",
    "    free_fly_system, free_fly_results= free_fly(return_system)\n",
    "    \n",
    "    frames = [free_fall_results, stretch_results, return_results, free_fly_results]\n",
    "    result = pd.concat(frames)\n",
    "\n",
    "    plot(result.h)\n",
    "    decorate(title = \"Bungee Drop Height vs. Time\", ylabel = \"Height (m)\", xlabel = \"Time (s)\", legend = mass)\n",
    "\n",
    "    plt.figure()\n",
    "    plot(result.v)\n",
    "    decorate(title = \"Bungee Drop Velocity vs. Time\", ylabel = \"Velocity (m/s)\", xlabel = \"Time (s)\", legend = mass)\n",
    "    print(get_last_value(result.h))\n",
    "plot_final(mass,params)\n"
   ]
  },
  {
   "cell_type": "code",
   "execution_count": 28,
   "metadata": {},
   "outputs": [
    {
     "name": "stdout",
     "output_type": "stream",
     "text": [
      "27.05408402475354\n"
     ]
    }
   ],
   "source": [
    "print(mass)"
   ]
  },
  {
   "cell_type": "markdown",
   "metadata": {},
   "source": []
  },
  {
   "cell_type": "markdown",
   "metadata": {},
   "source": [
    "### Results\n",
    "(R) The well-labeled figures you created to show the output of your simulation.\n",
    "(R) The answer to your modeling question (weight of object).\n",
    "(R or I) Text explaining how the figure showing your output leads you to the answer of your question.\n",
    "This can also include annotations on the figure.\n"
   ]
  },
  {
   "cell_type": "markdown",
   "metadata": {},
   "source": [
    "### Interpretation\n",
    "(I) In the Interpretation section, acknowledgment of any significant failings of the model accompanied by explanation of what measures were taken to address the problem and what additional steps would be taken next if the project were to continue.\n",
    "Significant failings might include (but are not limited to) a model that does not answer the question, a model that has so many limitations and assumptions that the output is meaningless, or a model that does not go beyond simple statistical modeling (e.g., showing correlations between variables).\n",
    "(I) A few sentences in the Interpretation section explaining the role of iteration in your modeling process.\n",
    "\n",
    "Human as sphere\n",
    "no rotation\n",
    "no delta drag w/drop of object\n",
    "\n",
    "started with only spring force and gravity with no change in mass\n",
    "tested each stage in isolated batches before stringing them together\n",
    "once bugs were worked out we itterativly added the drag force, change in mass, and whip force to the model\n",
    "\n",
    "\n",
    "\n",
    "According to https://www.bluebulbprojects.com/measureofthings/results.php?comp=weight&unit=kgms&amt=27&sort=pr&p=2 the 62kg bungee jumper should be carrying either 4 bowling balls, 5 gallons of paint, 6 cats, 9.5 bricks, 12 chihuahuas, 20 human brains, or 45 basketballs (some of which would be unreasonable because they would effect drag). "
   ]
  },
  {
   "cell_type": "code",
   "execution_count": null,
   "metadata": {},
   "outputs": [],
   "source": []
  }
 ],
 "metadata": {
  "kernelspec": {
   "display_name": "Python 3",
   "language": "python",
   "name": "python3"
  },
  "language_info": {
   "codemirror_mode": {
    "name": "ipython",
    "version": 3
   },
   "file_extension": ".py",
   "mimetype": "text/x-python",
   "name": "python",
   "nbconvert_exporter": "python",
   "pygments_lexer": "ipython3",
   "version": "3.6.6"
  }
 },
 "nbformat": 4,
 "nbformat_minor": 2
}
