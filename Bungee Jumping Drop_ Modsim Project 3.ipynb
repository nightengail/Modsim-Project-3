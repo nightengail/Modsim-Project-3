{
 "cells": [
  {
   "cell_type": "markdown",
   "metadata": {},
   "source": [
    "# Bungee Jumping Drop\n",
    "\n",
    "Shreya Chowdhary & Gail Romer\n"
   ]
  },
  {
   "cell_type": "code",
   "execution_count": 3,
   "metadata": {},
   "outputs": [],
   "source": [
    "# Configure Jupyter so figures appear in the notebook\n",
    "%matplotlib inline\n",
    "\n",
    "# Configure Jupyter to display the assigned value after an assignment\n",
    "%config InteractiveShell.ast_node_interactivity='last_expr_or_assign'\n",
    "\n",
    "# import functions from the modsim.py module\n",
    "from modsim import *"
   ]
  },
  {
   "cell_type": "code",
   "execution_count": 4,
   "metadata": {},
   "outputs": [
    {
     "data": {
      "text/html": [
       "newton"
      ],
      "text/latex": [
       "$newton$"
      ],
      "text/plain": [
       "<Unit('newton')>"
      ]
     },
     "execution_count": 4,
     "metadata": {},
     "output_type": "execute_result"
    }
   ],
   "source": [
    "m = UNITS.meter\n",
    "s = UNITS.second\n",
    "kg = UNITS.kilogram\n",
    "N = UNITS.newton"
   ]
  },
  {
   "cell_type": "markdown",
   "metadata": {},
   "source": [
    "We used google to find the average weight for a human, approximated the diameter of a spherical human by curling in balls and measuring ourselves, found k value for bungee cord from https://bungeejournal.academic.wlu.edu/files/2014/11/Does-a-Bungee-Cord-Behave-Like-an-Ideal-Spring.pdf\n",
    "\n",
    "drag coefficient of a sphere: https://en.wikipedia.org/wiki/Drag_coefficient\n",
    "\n",
    "mass bungee taken from the jump notebook (?)"
   ]
  },
  {
   "cell_type": "code",
   "execution_count": 8,
   "metadata": {},
   "outputs": [
    {
     "data": {
      "text/html": [
       "<div>\n",
       "<style scoped>\n",
       "    .dataframe tbody tr th:only-of-type {\n",
       "        vertical-align: middle;\n",
       "    }\n",
       "\n",
       "    .dataframe tbody tr th {\n",
       "        vertical-align: top;\n",
       "    }\n",
       "\n",
       "    .dataframe thead th {\n",
       "        text-align: right;\n",
       "    }\n",
       "</style>\n",
       "<table border=\"1\" class=\"dataframe\">\n",
       "  <thead>\n",
       "    <tr style=\"text-align: right;\">\n",
       "      <th></th>\n",
       "      <th>values</th>\n",
       "    </tr>\n",
       "  </thead>\n",
       "  <tbody>\n",
       "    <tr>\n",
       "      <th>init_height</th>\n",
       "      <td>220 meter</td>\n",
       "    </tr>\n",
       "    <tr>\n",
       "      <th>g</th>\n",
       "      <td>9.8 meter / second ** 2</td>\n",
       "    </tr>\n",
       "    <tr>\n",
       "      <th>mass_human</th>\n",
       "      <td>62 kilogram</td>\n",
       "    </tr>\n",
       "    <tr>\n",
       "      <th>mass_object</th>\n",
       "      <td>10 kilogram</td>\n",
       "    </tr>\n",
       "    <tr>\n",
       "      <th>diameter</th>\n",
       "      <td>0.8128 meter</td>\n",
       "    </tr>\n",
       "    <tr>\n",
       "      <th>rho</th>\n",
       "      <td>1.2 kilogram / meter ** 3</td>\n",
       "    </tr>\n",
       "    <tr>\n",
       "      <th>k</th>\n",
       "      <td>2.7289 newton / meter</td>\n",
       "    </tr>\n",
       "    <tr>\n",
       "      <th>bungee_rest_length</th>\n",
       "      <td>100 meter</td>\n",
       "    </tr>\n",
       "    <tr>\n",
       "      <th>t_end</th>\n",
       "      <td>20 second</td>\n",
       "    </tr>\n",
       "    <tr>\n",
       "      <th>dt</th>\n",
       "      <td>1 second</td>\n",
       "    </tr>\n",
       "    <tr>\n",
       "      <th>C_d</th>\n",
       "      <td>0.47</td>\n",
       "    </tr>\n",
       "    <tr>\n",
       "      <th>mass_bungee</th>\n",
       "      <td>75 kilogram</td>\n",
       "    </tr>\n",
       "  </tbody>\n",
       "</table>\n",
       "</div>"
      ],
      "text/plain": [
       "init_height                           220 meter\n",
       "g                       9.8 meter / second ** 2\n",
       "mass_human                          62 kilogram\n",
       "mass_object                         10 kilogram\n",
       "diameter                           0.8128 meter\n",
       "rho                   1.2 kilogram / meter ** 3\n",
       "k                         2.7289 newton / meter\n",
       "bungee_rest_length                    100 meter\n",
       "t_end                                 20 second\n",
       "dt                                     1 second\n",
       "C_d                                        0.47\n",
       "mass_bungee                         75 kilogram\n",
       "dtype: object"
      ]
     },
     "execution_count": 8,
     "metadata": {},
     "output_type": "execute_result"
    }
   ],
   "source": [
    "params = Params(init_height = 220 * m,\n",
    "                g = 9.8 * m/s**2,\n",
    "                mass_human = 62 * kg,\n",
    "                mass_object = 10 * kg,\n",
    "                diameter = 0.8128 * m, # diameter of a spherical human\n",
    "                rho = 1.2 * kg/m**3,   # rho of air for drag calculations\n",
    "                k = 2.7289 * N/m,      # k value for an average bungee cord\n",
    "                bungee_rest_length = 100 * m, # bungee cord less than half of init_height FOR NOW\n",
    "                t_end = 20 * s,\n",
    "               dt = 1*s,\n",
    "               C_d = 0.47,\n",
    "               mass_bungee = 75 * kg)"
   ]
  },
  {
   "cell_type": "code",
   "execution_count": 13,
   "metadata": {},
   "outputs": [],
   "source": [
    "def make_system(params):\n",
    "    init = State(t = 0 * s, \n",
    "                 h = params.init_height, \n",
    "                 v = 0 * m/s)\n",
    "    area = np.pi * (params.diameter/2)**2\n",
    "    mu = params.mass_bungee/(params.mass_human + params.mass_object)\n",
    "    system = System(params, init = init, area = area, mu = mu)\n",
    "    return system"
   ]
  },
  {
   "cell_type": "code",
   "execution_count": 89,
   "metadata": {},
   "outputs": [
    {
     "name": "stdout",
     "output_type": "stream",
     "text": [
      "(                 t           h          v\n",
      "0.000000  0.000000  220.000000   0.000000\n",
      "0.000102  0.000102  220.000000  -0.000995\n",
      "0.001117  0.001117  219.999994  -0.010943\n",
      "0.011268  0.011268  219.999378  -0.110426\n",
      "0.112781  0.112781  219.937673  -1.105304\n",
      "1.112781  1.112781  213.919476 -10.951751\n",
      "2.112781  2.112781  197.959516 -21.021866\n",
      "3.112781  3.112781  171.737445 -31.505754\n",
      "4.112781  4.112781  134.758612 -42.554307\n",
      "4.855086  4.855086  100.000000 -51.148613, sol                                  None\n",
      "t_events           [[4.8550859687534675]]\n",
      "nfev                                   56\n",
      "njev                                    0\n",
      "nlu                                     0\n",
      "status                                  1\n",
      "message     A termination event occurred.\n",
      "success                              True\n",
      "dtype: object)\n"
     ]
    },
    {
     "ename": "AttributeError",
     "evalue": "'tuple' object has no attribute 't'",
     "output_type": "error",
     "traceback": [
      "\u001b[1;31m---------------------------------------------------------------------------\u001b[0m",
      "\u001b[1;31mAttributeError\u001b[0m                            Traceback (most recent call last)",
      "\u001b[1;32m<ipython-input-89-89c3507f2ec5>\u001b[0m in \u001b[0;36m<module>\u001b[1;34m()\u001b[0m\n\u001b[0;32m      1\u001b[0m \u001b[0msystem\u001b[0m \u001b[1;33m=\u001b[0m \u001b[0mmake_system\u001b[0m\u001b[1;33m(\u001b[0m\u001b[0mparams\u001b[0m\u001b[1;33m)\u001b[0m\u001b[1;33m\u001b[0m\u001b[0m\n\u001b[1;32m----> 2\u001b[1;33m \u001b[0mfree_fall\u001b[0m \u001b[1;33m=\u001b[0m \u001b[0mfree_fall\u001b[0m\u001b[1;33m(\u001b[0m\u001b[0msystem\u001b[0m\u001b[1;33m)\u001b[0m\u001b[1;33m\u001b[0m\u001b[0m\n\u001b[0m",
      "\u001b[1;32m<ipython-input-88-2df36ba701aa>\u001b[0m in \u001b[0;36mfree_fall\u001b[1;34m(sys)\u001b[0m\n\u001b[0;32m      4\u001b[0m \u001b[1;33m\u001b[0m\u001b[0m\n\u001b[0;32m      5\u001b[0m     \u001b[0mprint\u001b[0m\u001b[1;33m(\u001b[0m\u001b[0mfree_fall_results\u001b[0m\u001b[1;33m)\u001b[0m\u001b[1;33m\u001b[0m\u001b[0m\n\u001b[1;32m----> 6\u001b[1;33m     \u001b[0mt_final\u001b[0m \u001b[1;33m=\u001b[0m \u001b[0mget_last_label\u001b[0m\u001b[1;33m(\u001b[0m\u001b[0mfree_fall_results\u001b[0m\u001b[1;33m.\u001b[0m\u001b[0mt\u001b[0m\u001b[1;33m)\u001b[0m\u001b[1;33m\u001b[0m\u001b[0m\n\u001b[0m\u001b[0;32m      7\u001b[0m     \u001b[0mh_final\u001b[0m \u001b[1;33m=\u001b[0m \u001b[0mget_last_label\u001b[0m\u001b[1;33m(\u001b[0m\u001b[0mfree_fall_results\u001b[0m\u001b[1;33m.\u001b[0m\u001b[0mh\u001b[0m\u001b[1;33m)\u001b[0m\u001b[1;33m\u001b[0m\u001b[0m\n\u001b[0;32m      8\u001b[0m     \u001b[0mv_final\u001b[0m \u001b[1;33m=\u001b[0m \u001b[0mget_last_label\u001b[0m\u001b[1;33m(\u001b[0m\u001b[0mfree_fall_results\u001b[0m\u001b[1;33m.\u001b[0m\u001b[0mv\u001b[0m\u001b[1;33m)\u001b[0m\u001b[1;33m\u001b[0m\u001b[0m\n",
      "\u001b[1;31mAttributeError\u001b[0m: 'tuple' object has no attribute 't'"
     ]
    }
   ],
   "source": [
    "system = make_system(params)\n",
    "free_fall = free_fall(system)"
   ]
  },
  {
   "cell_type": "code",
   "execution_count": 37,
   "metadata": {},
   "outputs": [],
   "source": [
    "def drag_force(v, system):\n",
    "    unpack(system)\n",
    "    return -np.sign(v) * -rho * v**2 * C_d * area / 2"
   ]
  },
  {
   "cell_type": "code",
   "execution_count": 42,
   "metadata": {},
   "outputs": [],
   "source": [
    "def whip_force(system, state):\n",
    "    unpack(system)\n",
    "    t, h, v = state\n",
    "    a = (mu * (v**2)/2)/(mu*(bungee_rest_length + h) + 2*bungee_rest_length)\n",
    "    return total_mass*a"
   ]
  },
  {
   "cell_type": "code",
   "execution_count": 39,
   "metadata": {},
   "outputs": [],
   "source": [
    "def spring_force(h, system):\n",
    "    unpack(system)\n",
    "    return k*((init_height - h) - bungee_rest_length)"
   ]
  },
  {
   "cell_type": "code",
   "execution_count": 18,
   "metadata": {},
   "outputs": [],
   "source": [
    "def free_fall_event(state, t, system):\n",
    "    unpack(system)\n",
    "    t, h, v = state\n",
    "    \n",
    "    return bungee_rest_length - h"
   ]
  },
  {
   "cell_type": "code",
   "execution_count": 70,
   "metadata": {},
   "outputs": [],
   "source": [
    "def slope_func_1(state, t, system):\n",
    "    unpack(system)\n",
    "    t, h, v = state\n",
    "    \n",
    "    f_drag = drag_force(v, system)\n",
    "    f_whip = whip_force(system, state)\n",
    "    f_grav = (total_mass)*(-g)\n",
    "    \n",
    "    net_force = f_drag + f_whip + f_grav\n",
    "    a = net_force/total_mass\n",
    "    dhdt = v\n",
    "    dvdt = a \n",
    "    \n",
    "    return dt, dhdt, dvdt"
   ]
  },
  {
   "cell_type": "markdown",
   "metadata": {},
   "source": [
    "### Stage 1: Freefall"
   ]
  },
  {
   "cell_type": "code",
   "execution_count": 88,
   "metadata": {},
   "outputs": [],
   "source": [
    "def free_fall(sys):\n",
    "    system = System(sys, total_mass = sys.mass_human + sys.mass_object)\n",
    "    free_fall_results = run_ode_solver(system, slope_func_1, events = free_fall_event, max_step = dt)\n",
    "    \n",
    "    print(free_fall_results)\n",
    "    t_final = get_last_label(free_fall_results.t)\n",
    "    h_final = get_last_label(free_fall_results.h)\n",
    "    v_final = get_last_label(free_fall_results.v)\n",
    "    free_fall_state = State(t = t_final, h = h_final, v = v_final)\n",
    "    \n",
    "    return free_fall_state\n",
    "    #End characteristic of Stage 1 => (Bungee_rest_length - delta Y = 0)\n",
    "    # return Final Height of Free Fall Stage, final V of free fall stage, final t of free fall stage"
   ]
  },
  {
   "cell_type": "markdown",
   "metadata": {},
   "source": [
    "### Stage 2: Stretch"
   ]
  },
  {
   "cell_type": "code",
   "execution_count": 24,
   "metadata": {},
   "outputs": [
    {
     "data": {
      "text/html": [
       "163.73399999999998 newton"
      ],
      "text/latex": [
       "$163.73399999999998 newton$"
      ],
      "text/plain": [
       "<Quantity(163.73399999999998, 'newton')>"
      ]
     },
     "execution_count": 24,
     "metadata": {},
     "output_type": "execute_result"
    }
   ],
   "source": [
    "final_V_of_freefall = 20 * m/s\n",
    "final_height_of_freefall = 100 * m\n",
    "t = 20 * s\n",
    "\n",
    "delta_Y = 220 * m - final_height_of_freefall\n",
    "\n",
    "\n",
    "F_g = -(params.mass_human+params.mass_object)*params.g\n",
    "F_bungee = -params.k*(delta_Y - params.bungee_rest_length) # NEED TO MAKE THIS A FUNC OF DT\n",
    "# F_drag\n",
    "a = -(F_bungee - F_g)/(params.mass_human+params.mass_object)\n",
    "v = final_V_of_freefall + a*dt\n",
    "height = final_height_of_freefall + v*dt\n",
    "\n",
    "\n",
    "# EPE_of_Bungee = (1/2)*params.k*delta_Y\n",
    "\n",
    "#End characteristic of Stage 2 => (v = 0)\n",
    "# return Final Height of Stretch Stage, final V of stretch stage, final t of stretch stage, EPE of Bungee"
   ]
  },
  {
   "cell_type": "markdown",
   "metadata": {},
   "source": [
    "### Stage 3: Release\n",
    "is this a necessary stage?"
   ]
  },
  {
   "cell_type": "code",
   "execution_count": 25,
   "metadata": {},
   "outputs": [
    {
     "data": {
      "text/html": [
       "110.95802777777777 meter"
      ],
      "text/latex": [
       "$110.95802777777777 meter$"
      ],
      "text/plain": [
       "<Quantity(110.95802777777777, 'meter')>"
      ]
     },
     "execution_count": 25,
     "metadata": {},
     "output_type": "execute_result"
    }
   ],
   "source": [
    "final_V_of_stretch = 0 * m/s\n",
    "final_height_of_stretch = 10 * m\n",
    "t = 40 * s\n",
    "EPE_of_Bungee =  (1/2)*params.k*delta_Y\n",
    "\n",
    "delta_Y = 220 * m - final_height_of_freefall\n",
    "\n",
    "F_g = -(params.mass_human+params.mass_object)*params.g\n",
    "F_bungee = -params.k*(delta_Y - params.bungee_rest_length)\n",
    "a = -(F_bungee - F_g)/(params.mass_human+params.mass_object)\n",
    "v = final_V_of_freefall + a*dt\n",
    "height = final_height_of_freefall + v*dt\n",
    "\n",
    "#End characteristic of Stage 2 => (v = 0)\n",
    "# return Final Height of Stretch Stage, final V of stretch stage, final t of stretch stage"
   ]
  },
  {
   "cell_type": "markdown",
   "metadata": {},
   "source": [
    "### Stage 4: Return (pull)"
   ]
  },
  {
   "cell_type": "code",
   "execution_count": null,
   "metadata": {},
   "outputs": [],
   "source": []
  },
  {
   "cell_type": "markdown",
   "metadata": {},
   "source": [
    "### Stage 5: Freefly"
   ]
  },
  {
   "cell_type": "code",
   "execution_count": null,
   "metadata": {},
   "outputs": [],
   "source": []
  },
  {
   "cell_type": "markdown",
   "metadata": {},
   "source": [
    "### End Stage: Pass Height 0"
   ]
  },
  {
   "cell_type": "code",
   "execution_count": null,
   "metadata": {},
   "outputs": [],
   "source": []
  }
 ],
 "metadata": {
  "kernelspec": {
   "display_name": "Python 3",
   "language": "python",
   "name": "python3"
  },
  "language_info": {
   "codemirror_mode": {
    "name": "ipython",
    "version": 3
   },
   "file_extension": ".py",
   "mimetype": "text/x-python",
   "name": "python",
   "nbconvert_exporter": "python",
   "pygments_lexer": "ipython3",
   "version": "3.6.6"
  }
 },
 "nbformat": 4,
 "nbformat_minor": 2
}
